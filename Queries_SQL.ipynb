{
 "cells": [
  {
   "cell_type": "markdown",
   "metadata": {},
   "source": [
    "### SQL Queries(Pune data base)"
   ]
  },
  {
   "cell_type": "code",
   "execution_count": 2,
   "metadata": {},
   "outputs": [
    {
     "name": "stdout",
     "output_type": "stream",
     "text": [
      "         0\n",
      "0  1416239\n"
     ]
    }
   ],
   "source": [
    "#number of \"node\" tags\n",
    "import sqlite3\n",
    "db = sqlite3.connect(\"pune.db\")\n",
    "c = db.cursor()\n",
    "QUERY = '''SELECT count(*)as num from nodes;\n",
    "'''\n",
    "c.execute(QUERY)\n",
    "rows = c.fetchall()\n",
    "import pandas as pd    \n",
    "df = pd.DataFrame(rows)\n",
    "print df\n",
    "db.close()"
   ]
  },
  {
   "cell_type": "markdown",
   "metadata": {},
   "source": [
    ">There are <b>1416239</b> nodes"
   ]
  },
  {
   "cell_type": "code",
   "execution_count": 54,
   "metadata": {},
   "outputs": [
    {
     "name": "stdout",
     "output_type": "stream",
     "text": [
      "        0\n",
      "0  270156\n"
     ]
    }
   ],
   "source": [
    "# number of 'Way'tags\n",
    "import sqlite3\n",
    "db = sqlite3.connect(\"pune.db\")\n",
    "c = db.cursor()\n",
    "QUERY = '''SELECT count(*)as num from ways;\n",
    "'''\n",
    "c.execute(QUERY)\n",
    "rows = c.fetchall()\n",
    "import pandas as pd    \n",
    "df = pd.DataFrame(rows)\n",
    "print df\n",
    "db.close()"
   ]
  },
  {
   "cell_type": "markdown",
   "metadata": {},
   "source": [
    ">There are <b>270156</b> ways"
   ]
  },
  {
   "cell_type": "code",
   "execution_count": 9,
   "metadata": {},
   "outputs": [
    {
     "name": "stdout",
     "output_type": "stream",
     "text": [
      "670\n"
     ]
    }
   ],
   "source": [
    "# number of unique users\n",
    "import sqlite3\n",
    "db = sqlite3.connect(\"pune.db\")\n",
    "c = db.cursor()\n",
    "QUERY = '''SELECT DISTINCT(user) from (select user from nodes UNION ALL select user from ways);\n",
    "\n",
    "'''\n",
    "c.execute(QUERY)\n",
    "rows = c.fetchall()\n",
    "import pandas as pd    \n",
    "df = pd.DataFrame(rows)\n",
    "#print df\n",
    "print len(df)\n",
    "\n",
    "db.close()"
   ]
  },
  {
   "cell_type": "markdown",
   "metadata": {},
   "source": [
    ">There are <b>670</b> unique users "
   ]
  },
  {
   "cell_type": "code",
   "execution_count": 14,
   "metadata": {},
   "outputs": [
    {
     "name": "stdout",
     "output_type": "stream",
     "text": [
      "Number of users :  670\n",
      "\n",
      "Total Number of Contributions :  1686395\n",
      "\n",
      "Contribution Stats \n",
      "count      670.000000\n",
      "mean      2517.007463\n",
      "std       9387.334990\n",
      "min          1.000000\n",
      "25%          1.000000\n",
      "50%          6.000000\n",
      "75%         53.750000\n",
      "max      96812.000000\n",
      "Name: 1, dtype: float64\n"
     ]
    }
   ],
   "source": [
    "#User Stats\n",
    "import sqlite3\n",
    "db = sqlite3.connect(\"pune.db\")\n",
    "c = db.cursor()\n",
    "QUERY = '''SELECT user,count(user)  from (select user from nodes UNION ALL select user from ways)\n",
    "group by user\n",
    "order by  count(user) desc\n",
    ";\n",
    "'''\n",
    "c.execute(QUERY) \n",
    "rows = c.fetchall()\n",
    "import pandas as pd    \n",
    "df = pd.DataFrame(rows)\n",
    "print \"Number of users : \",len(df)\n",
    "print \"\\nTotal Number of Contributions : \",df[1].sum()\n",
    "\n",
    "print \"\\nContribution Stats \\n\",df[1].describe()\n",
    "\n",
    "\n",
    "db.close()\n"
   ]
  },
  {
   "cell_type": "code",
   "execution_count": 47,
   "metadata": {},
   "outputs": [
    {
     "name": "stdout",
     "output_type": "stream",
     "text": [
      "               0      1\n",
      "0      singleton  96812\n",
      "1    harishvarma  60144\n",
      "2  jasvinderkaur  57697\n",
      "3        sramesh  57627\n",
      "4       praveeng  56788\n"
     ]
    }
   ],
   "source": [
    "#Top 5 contributers\n",
    "import sqlite3\n",
    "db = sqlite3.connect(\"pune.db\")\n",
    "c = db.cursor()\n",
    "QUERY = '''SELECT user,count(user)  from (select user from nodes UNION ALL select user from ways)\n",
    "group by user\n",
    "order by  count(user) desc\n",
    "limit 5;\n",
    "'''\n",
    "c.execute(QUERY) \n",
    "rows = c.fetchall()\n",
    "import pandas as pd    \n",
    "df = pd.DataFrame(rows)\n",
    "print df\n",
    "db.close()"
   ]
  },
  {
   "cell_type": "markdown",
   "metadata": {},
   "source": [
    "> user \"<b>singleton</b>\" has contributed more than any other users"
   ]
  },
  {
   "cell_type": "code",
   "execution_count": 5,
   "metadata": {},
   "outputs": [
    {
     "name": "stdout",
     "output_type": "stream",
     "text": [
      "Number of amenities  available in PUNE CITY : 52\n",
      "                     0    1\n",
      "0           restaurant  160\n",
      "1               school  112\n",
      "2                 fuel   69\n",
      "3             hospital   56\n",
      "4                 cafe   55\n",
      "5              parking   49\n",
      "6            fast_food   47\n",
      "7                 bank   45\n",
      "8              college   36\n",
      "9              toilets   34\n",
      "10                 atm   30\n",
      "11            pharmacy   24\n",
      "12              police   23\n",
      "13         bus_station   22\n",
      "14          university   20\n",
      "15       swimming_pool   16\n",
      "16              cinema   15\n",
      "17    place_of_worship   15\n",
      "18         post_office   14\n",
      "19    community_centre    8\n",
      "20      drinking_water    7\n",
      "21             library    7\n",
      "22            post_box    7\n",
      "23             theatre    7\n",
      "24                 bar    6\n",
      "25        kindergarten    6\n",
      "26                 pub    6\n",
      "27             doctors    5\n",
      "28            fountain    5\n",
      "29         marketplace    5\n",
      "30                taxi    5\n",
      "31      coaching class    4\n",
      "32        fire_station    4\n",
      "33     bicycle_parking    3\n",
      "34            showroom    3\n",
      "35     social_facility    3\n",
      "36               bench    2\n",
      "37              clinic    2\n",
      "38             dentist    2\n",
      "39     gas cylinder BP    2\n",
      "40               house    2\n",
      "41           ice_cream    2\n",
      "42  motorcycle_parking    2\n",
      "43              office    2\n",
      "44       parking_space    2\n",
      "45           residence    2\n",
      "46            townhall    2\n",
      "47      waste_disposal    2\n",
      "48      bicycle_rental    1\n",
      "49             shelter    1\n",
      "50    tower_of_silence    1\n",
      "51        waste_basket    1\n"
     ]
    }
   ],
   "source": [
    "#amenities and their count \n",
    "import sqlite3\n",
    "db = sqlite3.connect(\"pune.db\")\n",
    "c = db.cursor()\n",
    "QUERY = '''SELECT value,count(*)as num from (select value,key from nodes_tags  UNION ALL select value,key from ways_tags)\n",
    "where key='amenity'\n",
    "group by value\n",
    "order by num desc\n",
    ";\n",
    "'''\n",
    "c.execute(QUERY)\n",
    "rows = c.fetchall()\n",
    "import pandas as pd    \n",
    "df = pd.DataFrame(rows)\n",
    "print \"Number of amenities  available in PUNE CITY :\", len(df)\n",
    "print (df)\n",
    "\n",
    "db.close()"
   ]
  },
  {
   "cell_type": "code",
   "execution_count": 9,
   "metadata": {},
   "outputs": [
    {
     "name": "stdout",
     "output_type": "stream",
     "text": [
      "Number of amenities  available in PUNE CITY : 14\n",
      "                                    0   1\n",
      "0                              indian  58\n",
      "1                              burger  18\n",
      "2                         coffee_shop  14\n",
      "3                               pizza   9\n",
      "4                            sandwich   9\n",
      "5                             italian   6\n",
      "6                             Mastani   3\n",
      "7                        North_Indian   3\n",
      "8   Regional,_India,_Tandoor,_Chinese   3\n",
      "9                                cafe   3\n",
      "10                            chicken   3\n",
      "11                            chinese   3\n",
      "12                              rolls   3\n",
      "13                               thai   3\n"
     ]
    }
   ],
   "source": [
    "#cusines available and their count \n",
    "import sqlite3\n",
    "db = sqlite3.connect(\"pune.db\")\n",
    "c = db.cursor()\n",
    "QUERY = '''SELECT value,count(*)as num from (select value,key from nodes_tags  UNION ALL select value,key from ways_tags)\n",
    "where key='cuisine'\n",
    "group by value\n",
    "order by num desc\n",
    ";\n",
    "'''\n",
    "c.execute(QUERY)\n",
    "rows = c.fetchall()\n",
    "import pandas as pd    \n",
    "df = pd.DataFrame(rows)\n",
    "print \"Number of amenities  available in PUNE CITY :\", len(df)\n",
    "print (df)\n",
    "\n",
    "db.close()"
   ]
  },
  {
   "cell_type": "markdown",
   "metadata": {},
   "source": [
    ">so <b>'restaurant'</b> tops the amenities list with <b>160</b>  followed by <b>\"School\"</b> with <b>112</b>"
   ]
  }
 ],
 "metadata": {
  "kernelspec": {
   "display_name": "Python 2",
   "language": "python",
   "name": "python2"
  },
  "language_info": {
   "codemirror_mode": {
    "name": "ipython",
    "version": 2
   },
   "file_extension": ".py",
   "mimetype": "text/x-python",
   "name": "python",
   "nbconvert_exporter": "python",
   "pygments_lexer": "ipython2",
   "version": "2.7.13"
  }
 },
 "nbformat": 4,
 "nbformat_minor": 2
}
